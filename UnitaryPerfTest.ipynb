{
 "cells": [
  {
   "cell_type": "code",
   "execution_count": 1,
   "metadata": {},
   "outputs": [],
   "source": [
    "import utils.server_interface as sv\n",
    "import boards.board_split_smart as board\n",
    "from utils.clock import Clock\n",
    "import timeit\n",
    "\n",
    "#The kind of player we want :curently only random\n",
    "import player_alex_merge as pl\n",
    "\n",
    "clock = Clock(2)"
   ]
  },
  {
   "cell_type": "code",
   "execution_count": 2,
   "metadata": {},
   "outputs": [],
   "source": [
    "SERVER = sv.ServerInterface('192.168.56.102', '5555', 'tit')\n",
    "current_board = board.Board(SERVER.board_h, SERVER.board_w, SERVER.mapInfo, SERVER.startingPosition)"
   ]
  },
  {
   "cell_type": "code",
   "execution_count": 3,
   "metadata": {},
   "outputs": [
    {
     "name": "stdout",
     "output_type": "stream",
     "text": [
      "({(2, 1): 7}, {(1, 2): 8}, {(3, 0): 15})\n"
     ]
    }
   ],
   "source": [
    "print(current_board.getBoard())"
   ]
  },
  {
   "cell_type": "code",
   "execution_count": 4,
   "metadata": {},
   "outputs": [
    {
     "name": "stdout",
     "output_type": "stream",
     "text": [
      "64.4 µs ± 1.55 µs per loop (mean ± std. dev. of 7 runs, 10000 loops each)\n"
     ]
    }
   ],
   "source": [
    "%timeit moves = current_board.getAvailableMoves(2)\n",
    "moves = current_board.getAvailableMoves(2)"
   ]
  },
  {
   "cell_type": "code",
   "execution_count": 5,
   "metadata": {},
   "outputs": [
    {
     "name": "stdout",
     "output_type": "stream",
     "text": [
      "6.36 ms ± 107 µs per loop (mean ± std. dev. of 7 runs, 100 loops each)\n"
     ]
    }
   ],
   "source": [
    "%timeit pl.getPositionsByOrder(moves, current_board, 4, 5)\n",
    "pos = pl.getPositionsByOrder(moves, current_board, -1, 5)"
   ]
  },
  {
   "cell_type": "code",
   "execution_count": 3,
   "metadata": {},
   "outputs": [
    {
     "name": "stdout",
     "output_type": "stream",
     "text": [
      "8\n",
      "{'[[2, 1, 8, 1, 2]]': (114.5, [[2, 1, 8, 1, 2]])}\n"
     ]
    }
   ],
   "source": [
    "pos = pl.getPositionsByOrder([[[2, 1, 8, 1, 2]]], current_board, 5, clock)"
   ]
  },
  {
   "cell_type": "code",
   "execution_count": 8,
   "metadata": {},
   "outputs": [
    {
     "data": {
      "text/plain": [
       "dict_values([(230.84464285714284, [(6, 7, 10), (7, 7, 9)])])"
      ]
     },
     "execution_count": 8,
     "metadata": {},
     "output_type": "execute_result"
    }
   ],
   "source": [
    "pos"
   ]
  },
  {
   "cell_type": "code",
   "execution_count": 9,
   "metadata": {},
   "outputs": [],
   "source": [
    "pos = pl.getPositionsByOrder([[(6, 7, 19)]], current_board, 1, 5)"
   ]
  },
  {
   "cell_type": "code",
   "execution_count": 10,
   "metadata": {},
   "outputs": [
    {
     "data": {
      "text/plain": [
       "dict_values([(132.40833333333333, [(6, 7, 19)])])"
      ]
     },
     "execution_count": 10,
     "metadata": {},
     "output_type": "execute_result"
    }
   ],
   "source": [
    "pos"
   ]
  },
  {
   "cell_type": "code",
   "execution_count": null,
   "metadata": {},
   "outputs": [],
   "source": []
  }
 ],
 "metadata": {
  "kernelspec": {
   "display_name": "Python 3",
   "language": "python",
   "name": "python3"
  },
  "language_info": {
   "codemirror_mode": {
    "name": "ipython",
    "version": 3
   },
   "file_extension": ".py",
   "mimetype": "text/x-python",
   "name": "python",
   "nbconvert_exporter": "python",
   "pygments_lexer": "ipython3",
   "version": "3.7.5"
  }
 },
 "nbformat": 4,
 "nbformat_minor": 2
}
